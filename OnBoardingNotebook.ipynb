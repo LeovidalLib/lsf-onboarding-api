{
 "cells": [
  {
   "cell_type": "code",
   "execution_count": 2,
   "metadata": {},
   "outputs": [],
   "source": [
    "import requests\n",
    "import json"
   ]
  },
  {
   "cell_type": "code",
   "execution_count": 19,
   "metadata": {},
   "outputs": [],
   "source": [
    "data = {\n",
    "        'id': 'AP00000109', \n",
    "        'firstName': 'GUSTAVO', \n",
    "        'lastName': 'PRADO', \n",
    "        'birthDate': '2000-01-01', \n",
    "        'preferredLanguage': 'SPANISH', \n",
    "        'mobilePhone': '4771234567', \n",
    "        'emailAddress': '', \n",
    "        'addresses': [\n",
    "            {\n",
    "                'line1': 'HEROICO COLEGIO MILITAR', \n",
    "                'line2': '501', \n",
    "                'city': 'CORREGIDORA', \n",
    "                'region': 'CORREGIDORA', \n",
    "                'postcode': '76900', \n",
    "                'country': 'Mexico'\n",
    "                }\n",
    "            ], \n",
    "        'loanCycle': 0, \n",
    "        'groupLoanCycle': 0, \n",
    "        'clientRoleKey': '8ac9821e8af48ceb018afbbc778700e0'\n",
    "    }"
   ]
  },
  {
   "cell_type": "code",
   "execution_count": 24,
   "metadata": {},
   "outputs": [
    {
     "name": "stderr",
     "output_type": "stream",
     "text": [
      "c:\\Users\\user.crea40\\.virtualenvs\\onboarding_fastapi-jfmrU3f1\\Lib\\site-packages\\urllib3\\connectionpool.py:1100: InsecureRequestWarning: Unverified HTTPS request is being made to host 'apic-min-gw-gateway-cp4i.apps.cp4i.nopro.libertad.dev'. Adding certificate verification is strongly advised. See: https://urllib3.readthedocs.io/en/latest/advanced-usage.html#tls-warnings\n",
      "  warnings.warn(\n"
     ]
    }
   ],
   "source": [
    "petition = requests.post(url=\"https://apic-min-gw-gateway-cp4i.apps.cp4i.nopro.libertad.dev/libertad-dev/sandbox\" + \"/api/clients\", \n",
    "                                 json=data, \n",
    "                                 headers={\n",
    "                                    \"Content-Type\": \"application/json\",\n",
    "                                    \"X-IBM-Client-Id\": \"7740f10fecadbc3b24aa99247ef4e2c4\",\n",
    "                                    \"X-IBM-Client-Secret\": \"59198aeb63a2964cb8028629e4671276\",\n",
    "                                    \"Accept\": \"application/vnd.mambu.v2+json\"\n",
    "                                }, \n",
    "                                 verify=False)"
   ]
  },
  {
   "cell_type": "code",
   "execution_count": 22,
   "metadata": {},
   "outputs": [],
   "source": [
    "result = petition.json()"
   ]
  },
  {
   "cell_type": "code",
   "execution_count": 45,
   "metadata": {},
   "outputs": [
    {
     "data": {
      "text/plain": [
       "'8ac982b28b671805018b6f158fba045c'"
      ]
     },
     "execution_count": 45,
     "metadata": {},
     "output_type": "execute_result"
    }
   ],
   "source": [
    "result[\"encodedKey\"]"
   ]
  },
  {
   "cell_type": "code",
   "execution_count": 25,
   "metadata": {},
   "outputs": [],
   "source": [
    "result_bad = petition.json()"
   ]
  },
  {
   "cell_type": "code",
   "execution_count": 30,
   "metadata": {},
   "outputs": [
    {
     "data": {
      "text/plain": [
       "{'errorCode': 316, 'errorReason': 'CLIENT_ID_ALREADY_IN_USE'}"
      ]
     },
     "execution_count": 30,
     "metadata": {},
     "output_type": "execute_result"
    }
   ],
   "source": [
    "result_bad[\"errors\"][0][\"errorReason\"]"
   ]
  },
  {
   "cell_type": "code",
   "execution_count": 42,
   "metadata": {},
   "outputs": [
    {
     "name": "stdout",
     "output_type": "stream",
     "text": [
      "hola\n"
     ]
    }
   ],
   "source": [
    "if \"errors\" in result_bad:\n",
    "    print(\"hola\")\n",
    "else:\n",
    "    print(\"no\")"
   ]
  },
  {
   "cell_type": "code",
   "execution_count": 48,
   "metadata": {},
   "outputs": [],
   "source": [
    "a =  {\"code\": \"000\", \"status\": \"successes\", \"clientId\": result[\"id\"]}\n",
    "b =  {\n",
    "                \"code\": \"002\",\n",
    "                \"status\": result_bad[\"errors\"][0][\"errorReason\"],\n",
    "                \"clientId\": \"000\",\n",
    "            }"
   ]
  },
  {
   "cell_type": "code",
   "execution_count": 54,
   "metadata": {},
   "outputs": [
    {
     "data": {
      "text/plain": [
       "'000'"
      ]
     },
     "execution_count": 54,
     "metadata": {},
     "output_type": "execute_result"
    }
   ],
   "source": [
    "a.get(\"code\")"
   ]
  },
  {
   "cell_type": "code",
   "execution_count": 55,
   "metadata": {},
   "outputs": [],
   "source": [
    "request = [\n",
    "    {\n",
    "        \"op\": \"REPLACE\",\n",
    "        \"path\": \"_CBE_INTER\",\n",
    "        \"value\": {\n",
    "            \"_CBE_IN\": \"0000000000000000001\"\n",
    "        }\n",
    "    }\n",
    "]"
   ]
  },
  {
   "cell_type": "code",
   "execution_count": 64,
   "metadata": {},
   "outputs": [
    {
     "data": {
      "text/plain": [
       "[{'op': 'REPLACE', 'path': '_CBE_INTER', 'value': {'_CBE_IN': '999'}}]"
      ]
     },
     "execution_count": 64,
     "metadata": {},
     "output_type": "execute_result"
    }
   ],
   "source": [
    "request[0][\"value\"][\"_CBE_IN\"] = \"999\""
   ]
  },
  {
   "cell_type": "code",
   "execution_count": 91,
   "metadata": {},
   "outputs": [
    {
     "name": "stderr",
     "output_type": "stream",
     "text": [
      "c:\\Users\\user.crea40\\.virtualenvs\\onboarding_fastapi-jfmrU3f1\\Lib\\site-packages\\urllib3\\connectionpool.py:1100: InsecureRequestWarning: Unverified HTTPS request is being made to host 'apic-min-gw-gateway-cp4i.apps.cp4i.nopro.libertad.dev'. Adding certificate verification is strongly advised. See: https://urllib3.readthedocs.io/en/latest/advanced-usage.html#tls-warnings\n",
      "  warnings.warn(\n"
     ]
    }
   ],
   "source": [
    "id_account = \"000000001\"\n",
    "data = [\n",
    "    {\n",
    "        \"op\": \"REPLACE\",\n",
    "        \"path\": \"_CBE_INTER\",\n",
    "        \"value\": {\n",
    "            \"_CBE_IN\": \"0000000000000000001\"\n",
    "        }\n",
    "    }\n",
    "]\n",
    "data[0][\"value\"][\"_CBE_IN\"] = id_account\n",
    "response = requests.patch(\n",
    "    url=\"https://apic-min-gw-gateway-cp4i.apps.cp4i.nopro.libertad.dev/libertad-dev/sandbox\" + \"/api/deposits/\" + id_account, \n",
    "    json=data, \n",
    "    headers={\n",
    "        \"Content-Type\": \"application/json\",\n",
    "        \"X-IBM-Client-Id\": \"7740f10fecadbc3b24aa99247ef4e2c4\",\n",
    "        \"X-IBM-Client-Secret\": \"59198aeb63a2964cb8028629e4671276\",\n",
    "        \"Accept\": \"application/vnd.mambu.v2+json\"\n",
    "    }, \n",
    "    verify=False\n",
    ")"
   ]
  },
  {
   "cell_type": "code",
   "execution_count": 93,
   "metadata": {},
   "outputs": [
    {
     "data": {
      "text/plain": [
       "{'errors': [{'errorCode': 428, 'errorReason': 'INVALID_DEPOSIT_ACCOUNT_ID'}]}"
      ]
     },
     "execution_count": 93,
     "metadata": {},
     "output_type": "execute_result"
    }
   ],
   "source": [
    "response.json()"
   ]
  },
  {
   "cell_type": "code",
   "execution_count": 83,
   "metadata": {},
   "outputs": [
    {
     "ename": "JSONDecodeError",
     "evalue": "Expecting value: line 1 column 1 (char 0)",
     "output_type": "error",
     "traceback": [
      "\u001b[1;31m---------------------------------------------------------------------------\u001b[0m",
      "\u001b[1;31mJSONDecodeError\u001b[0m                           Traceback (most recent call last)",
      "File \u001b[1;32mc:\\Users\\user.crea40\\.virtualenvs\\onboarding_fastapi-jfmrU3f1\\Lib\\site-packages\\requests\\models.py:971\u001b[0m, in \u001b[0;36mResponse.json\u001b[1;34m(self, **kwargs)\u001b[0m\n\u001b[0;32m    970\u001b[0m \u001b[39mtry\u001b[39;00m:\n\u001b[1;32m--> 971\u001b[0m     \u001b[39mreturn\u001b[39;00m complexjson\u001b[39m.\u001b[39;49mloads(\u001b[39mself\u001b[39;49m\u001b[39m.\u001b[39;49mtext, \u001b[39m*\u001b[39;49m\u001b[39m*\u001b[39;49mkwargs)\n\u001b[0;32m    972\u001b[0m \u001b[39mexcept\u001b[39;00m JSONDecodeError \u001b[39mas\u001b[39;00m e:\n\u001b[0;32m    973\u001b[0m     \u001b[39m# Catch JSON-related errors and raise as requests.JSONDecodeError\u001b[39;00m\n\u001b[0;32m    974\u001b[0m     \u001b[39m# This aliases json.JSONDecodeError and simplejson.JSONDecodeError\u001b[39;00m\n",
      "File \u001b[1;32m~\\AppData\\Local\\Programs\\Python\\Python311\\Lib\\json\\__init__.py:346\u001b[0m, in \u001b[0;36mloads\u001b[1;34m(s, cls, object_hook, parse_float, parse_int, parse_constant, object_pairs_hook, **kw)\u001b[0m\n\u001b[0;32m    343\u001b[0m \u001b[39mif\u001b[39;00m (\u001b[39mcls\u001b[39m \u001b[39mis\u001b[39;00m \u001b[39mNone\u001b[39;00m \u001b[39mand\u001b[39;00m object_hook \u001b[39mis\u001b[39;00m \u001b[39mNone\u001b[39;00m \u001b[39mand\u001b[39;00m\n\u001b[0;32m    344\u001b[0m         parse_int \u001b[39mis\u001b[39;00m \u001b[39mNone\u001b[39;00m \u001b[39mand\u001b[39;00m parse_float \u001b[39mis\u001b[39;00m \u001b[39mNone\u001b[39;00m \u001b[39mand\u001b[39;00m\n\u001b[0;32m    345\u001b[0m         parse_constant \u001b[39mis\u001b[39;00m \u001b[39mNone\u001b[39;00m \u001b[39mand\u001b[39;00m object_pairs_hook \u001b[39mis\u001b[39;00m \u001b[39mNone\u001b[39;00m \u001b[39mand\u001b[39;00m \u001b[39mnot\u001b[39;00m kw):\n\u001b[1;32m--> 346\u001b[0m     \u001b[39mreturn\u001b[39;00m _default_decoder\u001b[39m.\u001b[39;49mdecode(s)\n\u001b[0;32m    347\u001b[0m \u001b[39mif\u001b[39;00m \u001b[39mcls\u001b[39m \u001b[39mis\u001b[39;00m \u001b[39mNone\u001b[39;00m:\n",
      "File \u001b[1;32m~\\AppData\\Local\\Programs\\Python\\Python311\\Lib\\json\\decoder.py:337\u001b[0m, in \u001b[0;36mJSONDecoder.decode\u001b[1;34m(self, s, _w)\u001b[0m\n\u001b[0;32m    333\u001b[0m \u001b[39m\u001b[39m\u001b[39m\"\"\"Return the Python representation of ``s`` (a ``str`` instance\u001b[39;00m\n\u001b[0;32m    334\u001b[0m \u001b[39mcontaining a JSON document).\u001b[39;00m\n\u001b[0;32m    335\u001b[0m \n\u001b[0;32m    336\u001b[0m \u001b[39m\"\"\"\u001b[39;00m\n\u001b[1;32m--> 337\u001b[0m obj, end \u001b[39m=\u001b[39m \u001b[39mself\u001b[39;49m\u001b[39m.\u001b[39;49mraw_decode(s, idx\u001b[39m=\u001b[39;49m_w(s, \u001b[39m0\u001b[39;49m)\u001b[39m.\u001b[39;49mend())\n\u001b[0;32m    338\u001b[0m end \u001b[39m=\u001b[39m _w(s, end)\u001b[39m.\u001b[39mend()\n",
      "File \u001b[1;32m~\\AppData\\Local\\Programs\\Python\\Python311\\Lib\\json\\decoder.py:355\u001b[0m, in \u001b[0;36mJSONDecoder.raw_decode\u001b[1;34m(self, s, idx)\u001b[0m\n\u001b[0;32m    354\u001b[0m \u001b[39mexcept\u001b[39;00m \u001b[39mStopIteration\u001b[39;00m \u001b[39mas\u001b[39;00m err:\n\u001b[1;32m--> 355\u001b[0m     \u001b[39mraise\u001b[39;00m JSONDecodeError(\u001b[39m\"\u001b[39m\u001b[39mExpecting value\u001b[39m\u001b[39m\"\u001b[39m, s, err\u001b[39m.\u001b[39mvalue) \u001b[39mfrom\u001b[39;00m \u001b[39mNone\u001b[39;00m\n\u001b[0;32m    356\u001b[0m \u001b[39mreturn\u001b[39;00m obj, end\n",
      "\u001b[1;31mJSONDecodeError\u001b[0m: Expecting value: line 1 column 1 (char 0)",
      "\nDuring handling of the above exception, another exception occurred:\n",
      "\u001b[1;31mJSONDecodeError\u001b[0m                           Traceback (most recent call last)",
      "\u001b[1;32mc:\\Users\\user.crea40\\Documents\\Libertad\\team_mambu\\src\\python\\onboarding_fastapi\\OnBoardingNotebook.ipynb Cell 14\u001b[0m line \u001b[0;36m1\n\u001b[1;32m----> <a href='vscode-notebook-cell:/c%3A/Users/user.crea40/Documents/Libertad/team_mambu/src/python/onboarding_fastapi/OnBoardingNotebook.ipynb#X24sZmlsZQ%3D%3D?line=0'>1</a>\u001b[0m clabe_error \u001b[39m=\u001b[39m response\u001b[39m.\u001b[39;49mjson()\n\u001b[0;32m      <a href='vscode-notebook-cell:/c%3A/Users/user.crea40/Documents/Libertad/team_mambu/src/python/onboarding_fastapi/OnBoardingNotebook.ipynb#X24sZmlsZQ%3D%3D?line=1'>2</a>\u001b[0m clabe_error[\u001b[39m\"\u001b[39m\u001b[39merrors\u001b[39m\u001b[39m\"\u001b[39m][\u001b[39m0\u001b[39m][\u001b[39m\"\u001b[39m\u001b[39merrorReason\u001b[39m\u001b[39m\"\u001b[39m]\n",
      "File \u001b[1;32mc:\\Users\\user.crea40\\.virtualenvs\\onboarding_fastapi-jfmrU3f1\\Lib\\site-packages\\requests\\models.py:975\u001b[0m, in \u001b[0;36mResponse.json\u001b[1;34m(self, **kwargs)\u001b[0m\n\u001b[0;32m    971\u001b[0m     \u001b[39mreturn\u001b[39;00m complexjson\u001b[39m.\u001b[39mloads(\u001b[39mself\u001b[39m\u001b[39m.\u001b[39mtext, \u001b[39m*\u001b[39m\u001b[39m*\u001b[39mkwargs)\n\u001b[0;32m    972\u001b[0m \u001b[39mexcept\u001b[39;00m JSONDecodeError \u001b[39mas\u001b[39;00m e:\n\u001b[0;32m    973\u001b[0m     \u001b[39m# Catch JSON-related errors and raise as requests.JSONDecodeError\u001b[39;00m\n\u001b[0;32m    974\u001b[0m     \u001b[39m# This aliases json.JSONDecodeError and simplejson.JSONDecodeError\u001b[39;00m\n\u001b[1;32m--> 975\u001b[0m     \u001b[39mraise\u001b[39;00m RequestsJSONDecodeError(e\u001b[39m.\u001b[39mmsg, e\u001b[39m.\u001b[39mdoc, e\u001b[39m.\u001b[39mpos)\n",
      "\u001b[1;31mJSONDecodeError\u001b[0m: Expecting value: line 1 column 1 (char 0)"
     ]
    }
   ],
   "source": [
    "clabe_error = response.json()\n",
    "clabe_error[\"errors\"][0][\"errorReason\"]"
   ]
  },
  {
   "cell_type": "code",
   "execution_count": 84,
   "metadata": {},
   "outputs": [
    {
     "data": {
      "text/plain": [
       "<Response [204]>"
      ]
     },
     "execution_count": 84,
     "metadata": {},
     "output_type": "execute_result"
    }
   ],
   "source": [
    "response"
   ]
  },
  {
   "cell_type": "code",
   "execution_count": 85,
   "metadata": {},
   "outputs": [],
   "source": [
    "hola = {\n",
    "    \"_HOLA\": {\n",
    "        \"_CLABE\": \"0001\"\n",
    "    }\n",
    "}"
   ]
  },
  {
   "cell_type": "code",
   "execution_count": 86,
   "metadata": {},
   "outputs": [
    {
     "data": {
      "text/plain": [
       "{'_HOLA': {'_CLABE': '0001'}}"
      ]
     },
     "execution_count": 86,
     "metadata": {},
     "output_type": "execute_result"
    }
   ],
   "source": [
    "hola"
   ]
  },
  {
   "cell_type": "code",
   "execution_count": 95,
   "metadata": {},
   "outputs": [],
   "source": [
    "prueba = {\n",
    "    \"encodedKey\": \"8ac980a18b671ce2018b700dde460679\",\n",
    "    \"creationDate\": \"2023-10-27T01:33:59-06:00\",\n",
    "    \"lastModifiedDate\": \"2023-10-27T01:40:12-06:00\",\n",
    "    \"id\": \"N000000000148\",\n",
    "    \"name\": \"N2_N000000000148\",\n",
    "    \"notes\": \"\",\n",
    "    \"accountHolderType\": \"CLIENT\",\n",
    "    \"accountHolderKey\": \"8ac980a18b671ce2018b700307dd0676\",\n",
    "    \"accountState\": \"APPROVED\",\n",
    "    \"productTypeKey\": \"8ac981878a2b3c43018a2e72a5b3018d\",\n",
    "    \"accountType\": \"CURRENT_ACCOUNT\",\n",
    "    \"approvedDate\": \"2023-10-27T01:40:13-06:00\",\n",
    "    \"currencyCode\": \"MXN\",\n",
    "    \"internalControls\": {\n",
    "        \"recommendedDepositAmount\": 2000000.0000000000,\n",
    "        \"maxWithdrawalAmount\": 100000.0000000000\n",
    "    },\n",
    "    \"overdraftSettings\": {\n",
    "        \"allowOverdraft\": False,\n",
    "        \"overdraftLimit\": 0\n",
    "    },\n",
    "    \"interestSettings\": {\n",
    "        \"interestRateSettings\": {\n",
    "            \"encodedKey\": \"8ac980a18b671ce2018b700dde46067a\",\n",
    "            \"interestRate\": 0,\n",
    "            \"interestChargeFrequency\": \"ANNUALIZED\",\n",
    "            \"interestChargeFrequencyCount\": 1,\n",
    "            \"interestRateTiers\": [\n",
    "                {\n",
    "                    \"encodedKey\": \"8ac980a18b671ce2018b700dde46067b\",\n",
    "                    \"endingBalance\": 0.9900000000,\n",
    "                    \"interestRate\": 0\n",
    "                },\n",
    "                {\n",
    "                    \"encodedKey\": \"8ac980a18b671ce2018b700de125067c\",\n",
    "                    \"endingBalance\": 99999999.0000000000,\n",
    "                    \"interestRate\": 9.00000000000000000000\n",
    "                }\n",
    "            ],\n",
    "            \"interestRateTerms\": \"TIERED\",\n",
    "            \"interestRateSource\": \"FIXED_INTEREST_RATE\"\n",
    "        },\n",
    "        \"interestPaymentSettings\": {\n",
    "            \"interestPaymentPoint\": \"DAILY\",\n",
    "            \"interestPaymentDates\": []\n",
    "        }\n",
    "    },\n",
    "    \"overdraftInterestSettings\": {},\n",
    "    \"balances\": {\n",
    "        \"totalBalance\": 0,\n",
    "        \"overdraftAmount\": 0,\n",
    "        \"technicalOverdraftAmount\": 0,\n",
    "        \"lockedBalance\": 0,\n",
    "        \"availableBalance\": 0,\n",
    "        \"holdBalance\": 0,\n",
    "        \"overdraftInterestDue\": 0,\n",
    "        \"technicalOverdraftInterestDue\": 0,\n",
    "        \"feesDue\": 0,\n",
    "        \"blockedBalance\": 0,\n",
    "        \"forwardAvailableBalance\": 0\n",
    "    },\n",
    "    \"accruedAmounts\": {\n",
    "        \"interestAccrued\": 0,\n",
    "        \"overdraftInterestAccrued\": 0,\n",
    "        \"technicalOverdraftInterestAccrued\": 0,\n",
    "        \"negativeInterestAccrued\": 0\n",
    "    }\n",
    "}"
   ]
  },
  {
   "cell_type": "code",
   "execution_count": 96,
   "metadata": {},
   "outputs": [
    {
     "data": {
      "text/plain": [
       "True"
      ]
     },
     "execution_count": 96,
     "metadata": {},
     "output_type": "execute_result"
    }
   ],
   "source": [
    "\"encodedKey\" in prueba"
   ]
  },
  {
   "cell_type": "code",
   "execution_count": 112,
   "metadata": {},
   "outputs": [
    {
     "name": "stderr",
     "output_type": "stream",
     "text": [
      "c:\\Users\\user.crea40\\.virtualenvs\\onboarding_fastapi-jfmrU3f1\\Lib\\site-packages\\urllib3\\connectionpool.py:1100: InsecureRequestWarning: Unverified HTTPS request is being made to host 'apic-min-gw-gateway-cp4i.apps.cp4i.nopro.libertad.dev'. Adding certificate verification is strongly advised. See: https://urllib3.readthedocs.io/en/latest/advanced-usage.html#tls-warnings\n",
      "  warnings.warn(\n"
     ]
    }
   ],
   "source": [
    "data = {\n",
    "    \"action\": \"APPROVE\",\n",
    "    \"notes\": \"Aprueba cuenta\"\n",
    "}\n",
    "id_account = \"N000000000144\"\n",
    "response = requests.post(\n",
    "    url=\"https://apic-min-gw-gateway-cp4i.apps.cp4i.nopro.libertad.dev/libertad-dev/sandbox\" + \"/api/deposits/\" + id_account + \":changeState\", \n",
    "    json=data, \n",
    "    headers={\n",
    "        \"Content-Type\": \"application/json\",\n",
    "        \"X-IBM-Client-Id\": \"7740f10fecadbc3b24aa99247ef4e2c4\",\n",
    "        \"X-IBM-Client-Secret\": \"59198aeb63a2964cb8028629e4671276\",\n",
    "        \"Accept\": \"application/vnd.mambu.v2+json\"\n",
    "    }, \n",
    "    verify=False\n",
    ")"
   ]
  },
  {
   "cell_type": "code",
   "execution_count": 115,
   "metadata": {},
   "outputs": [
    {
     "data": {
      "text/plain": [
       "True"
      ]
     },
     "execution_count": 115,
     "metadata": {},
     "output_type": "execute_result"
    }
   ],
   "source": [
    "\"id\" in response.json()"
   ]
  },
  {
   "cell_type": "code",
   "execution_count": 113,
   "metadata": {},
   "outputs": [
    {
     "data": {
      "text/plain": [
       "{'encodedKey': '8ac982078b671c94018b6ff46fa80558',\n",
       " 'creationDate': '2023-10-27T01:06:13-06:00',\n",
       " 'lastModifiedDate': '2023-10-27T01:57:49-06:00',\n",
       " 'id': 'N000000000144',\n",
       " 'name': 'N2_N000000000144',\n",
       " 'notes': '',\n",
       " 'accountHolderType': 'CLIENT',\n",
       " 'accountHolderKey': '8ac982078b671c94018b6ff46fa80555',\n",
       " 'accountState': 'APPROVED',\n",
       " 'productTypeKey': '8ac981878a2b3c43018a2e72a5b3018d',\n",
       " 'accountType': 'CURRENT_ACCOUNT',\n",
       " 'approvedDate': '2023-10-27T01:57:50-06:00',\n",
       " 'currencyCode': 'MXN',\n",
       " 'internalControls': {'recommendedDepositAmount': 2000000.0,\n",
       "  'maxWithdrawalAmount': 100000.0},\n",
       " 'overdraftSettings': {'allowOverdraft': False, 'overdraftLimit': 0},\n",
       " 'interestSettings': {'interestRateSettings': {'encodedKey': '8ac982078b671c94018b6ff46fa80559',\n",
       "   'interestRate': 0,\n",
       "   'interestChargeFrequency': 'ANNUALIZED',\n",
       "   'interestChargeFrequencyCount': 1,\n",
       "   'interestRateTiers': [{'encodedKey': '8ac982078b671c94018b6ff47372055a',\n",
       "     'endingBalance': 0.99,\n",
       "     'interestRate': 0},\n",
       "    {'encodedKey': '8ac982078b671c94018b6ff47372055b',\n",
       "     'endingBalance': 99999999.0,\n",
       "     'interestRate': 9.0}],\n",
       "   'interestRateTerms': 'TIERED',\n",
       "   'interestRateSource': 'FIXED_INTEREST_RATE'},\n",
       "  'interestPaymentSettings': {'interestPaymentPoint': 'DAILY',\n",
       "   'interestPaymentDates': []}},\n",
       " 'overdraftInterestSettings': {},\n",
       " 'balances': {'totalBalance': 0,\n",
       "  'overdraftAmount': 0,\n",
       "  'technicalOverdraftAmount': 0,\n",
       "  'lockedBalance': 0,\n",
       "  'availableBalance': 0,\n",
       "  'holdBalance': 0,\n",
       "  'overdraftInterestDue': 0,\n",
       "  'technicalOverdraftInterestDue': 0,\n",
       "  'feesDue': 0,\n",
       "  'blockedBalance': 0,\n",
       "  'forwardAvailableBalance': 0},\n",
       " 'accruedAmounts': {'interestAccrued': 0,\n",
       "  'overdraftInterestAccrued': 0,\n",
       "  'technicalOverdraftInterestAccrued': 0,\n",
       "  'negativeInterestAccrued': 0}}"
      ]
     },
     "execution_count": 113,
     "metadata": {},
     "output_type": "execute_result"
    }
   ],
   "source": [
    "response.json()"
   ]
  }
 ],
 "metadata": {
  "kernelspec": {
   "display_name": "onboarding_fastapi-jfmrU3f1",
   "language": "python",
   "name": "python3"
  },
  "language_info": {
   "codemirror_mode": {
    "name": "ipython",
    "version": 3
   },
   "file_extension": ".py",
   "mimetype": "text/x-python",
   "name": "python",
   "nbconvert_exporter": "python",
   "pygments_lexer": "ipython3",
   "version": "3.11.0"
  }
 },
 "nbformat": 4,
 "nbformat_minor": 2
}
